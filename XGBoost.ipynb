{
  "cells": [
    {
      "cell_type": "markdown",
      "source": [
        "IDS 561 Group 24 Project Code\n",
        "\n",
        "ML Model: XGBoost"
      ],
      "metadata": {
        "id": "gQYaeI92Y4XX"
      },
      "id": "gQYaeI92Y4XX"
    },
    {
      "cell_type": "code",
      "execution_count": null,
      "id": "1ef47f5f",
      "metadata": {
        "id": "1ef47f5f"
      },
      "outputs": [],
      "source": [
        "import numpy as np \n",
        "import pandas as pd \n",
        "import matplotlib"
      ]
    },
    {
      "cell_type": "code",
      "execution_count": null,
      "id": "58ab4a91",
      "metadata": {
        "id": "58ab4a91",
        "outputId": "9465afad-0b09-4290-b3d6-bfbd45d23d26"
      },
      "outputs": [
        {
          "name": "stderr",
          "output_type": "stream",
          "text": [
            "/opt/anaconda3/lib/python3.8/site-packages/IPython/core/interactiveshell.py:3165: DtypeWarning: Columns (39) have mixed types.Specify dtype option on import or set low_memory=False.\n",
            "  has_raised = await self.run_ast_nodes(code_ast.body, cell_name,\n"
          ]
        }
      ],
      "source": [
        "datafile_for_modelling = pd.read_csv(\"datafile_for_modelling.csv\")"
      ]
    },
    {
      "cell_type": "code",
      "execution_count": null,
      "id": "09760592",
      "metadata": {
        "id": "09760592"
      },
      "outputs": [],
      "source": [
        "from sklearn.base import BaseEstimator\n",
        "from sklearn.base import TransformerMixin\n",
        "from sklearn.preprocessing import StandardScaler\n",
        "from sklearn.preprocessing import FunctionTransformer\n",
        "from sklearn.pipeline import Pipeline\n",
        "from sklearn.pipeline import FeatureUnion\n",
        "from sklearn.model_selection import train_test_split\n",
        "from sklearn.model_selection import cross_val_score\n",
        "from sklearn.model_selection import KFold\n",
        "from sklearn.model_selection import StratifiedKFold\n",
        "from sklearn.model_selection import RandomizedSearchCV\n",
        "from sklearn.metrics import make_scorer\n",
        "from sklearn.metrics import accuracy_score\n",
        "from sklearn.metrics import classification_report\n",
        "from sklearn.metrics import confusion_matrix\n",
        "from sklearn.tree import DecisionTreeClassifier\n",
        "from sklearn.ensemble import RandomForestClassifier\n",
        "from sklearn.ensemble import BaggingClassifier"
      ]
    },
    {
      "cell_type": "code",
      "execution_count": null,
      "id": "dd142252",
      "metadata": {
        "id": "dd142252"
      },
      "outputs": [],
      "source": [
        "from sklearn.model_selection import train_test_split\n",
        "\n",
        "#Using only 1 million rows\n",
        "datafile_for_modelling = datafile_for_modelling.dropna()[:1000000]\n",
        "\n",
        "#Getting label and feature columns\n",
        "key_label = datafile_for_modelling['ARR_DELAY']\n",
        "key_features = datafile_for_modelling[['DEP_DELAY', 'TAXI_OUT', 'CRS_ELAPSED_TIME', 'DISTANCE', \n",
        "                   'flight_weekday_1', 'flight_weekday_2', 'flight_weekday_3', \n",
        "                   'flight_weekday_4', 'flight_weekday_5', 'flight_weekday_6',\n",
        "                   'flight_weekday_7']]\n",
        "\n",
        "#Making test and train data sets\n",
        "x_train, x_test, y_train, y_test = train_test_split(key_features, key_label, test_size = 0.20)"
      ]
    },
    {
      "cell_type": "code",
      "execution_count": null,
      "id": "b102ca56",
      "metadata": {
        "id": "b102ca56",
        "outputId": "5d645fba-6ba5-4e01-9f2b-ab515ca8944b"
      },
      "outputs": [
        {
          "name": "stdout",
          "output_type": "stream",
          "text": [
            "Collecting xgboost\n",
            "  Downloading xgboost-1.6.0-py3-none-macosx_10_15_x86_64.macosx_11_0_x86_64.macosx_12_0_x86_64.whl (1.7 MB)\n",
            "\u001b[K     |████████████████████████████████| 1.7 MB 5.8 MB/s eta 0:00:01\n",
            "\u001b[?25hRequirement already satisfied: scipy in /opt/anaconda3/lib/python3.8/site-packages (from xgboost) (1.6.2)\n",
            "Requirement already satisfied: numpy in /opt/anaconda3/lib/python3.8/site-packages (from xgboost) (1.20.1)\n",
            "Installing collected packages: xgboost\n",
            "Successfully installed xgboost-1.6.0\n",
            "Note: you may need to restart the kernel to use updated packages.\n"
          ]
        }
      ],
      "source": [
        "pip install xgboost"
      ]
    },
    {
      "cell_type": "code",
      "execution_count": null,
      "id": "c55257c4",
      "metadata": {
        "id": "c55257c4",
        "outputId": "19640e4c-3401-4453-c170-259a8c25e53e"
      },
      "outputs": [
        {
          "name": "stdout",
          "output_type": "stream",
          "text": [
            "Fitting 2 folds for each of 1 candidates, totalling 2 fits\n",
            "[10:51:21] WARNING: /Users/runner/work/xgboost/xgboost/python-package/build/temp.macosx-10.9-x86_64-3.7/xgboost/src/learner.cc:627: \n",
            "Parameters: { \"silent\" } might not be used.\n",
            "\n",
            "  This could be a false alarm, with some parameters getting used by language bindings but\n",
            "  then being mistakenly passed down to XGBoost core, or some parameter actually being used\n",
            "  but getting flagged wrongly here. Please open an issue if you find any such cases.\n",
            "\n",
            "\n",
            "CPU times: user 7min 40s, sys: 48.1 s, total: 8min 28s\n",
            "Wall time: 3min 6s\n"
          ]
        }
      ],
      "source": [
        "import xgboost as xgb\n",
        "from sklearn.model_selection import GridSearchCV\n",
        "from sklearn.metrics import mean_squared_error, make_scorer\n",
        "\n",
        "model = xgb.XGBRegressor()\n",
        "\n",
        "param = {'colsample_bytree': [1], \n",
        "         'gamma': [1.5], \n",
        "         'learning_rate': [0.04], \n",
        "         'max_depth': [8], \n",
        "         'min_child_weight': [3], \n",
        "         'n_estimators': [300],\n",
        "         'silent': [1], \n",
        "         'subsample': [0.8]\n",
        "         }\n",
        "\n",
        "score = make_scorer(mean_squared_error, greater_is_better = False)\n",
        "\n",
        "grid_search = GridSearchCV(estimator = model, param_grid = param, cv = 2,\n",
        "                        n_jobs = 5,\n",
        "                        verbose=True,\n",
        "                        scoring = score)\n",
        "\n",
        "#Fitting the grid search to the data\n",
        "%time res = grid_search.fit(x_train, y_train)\n",
        "\n",
        "best_parameters = res.best_params_"
      ]
    },
    {
      "cell_type": "code",
      "execution_count": null,
      "id": "30af5e7f",
      "metadata": {
        "id": "30af5e7f",
        "outputId": "e894e3b8-a971-468a-d24f-166bae6e676a"
      },
      "outputs": [
        {
          "name": "stdout",
          "output_type": "stream",
          "text": [
            "-135.59675294462647\n",
            "{'colsample_bytree': 1, 'gamma': 1.5, 'learning_rate': 0.04, 'max_depth': 8, 'min_child_weight': 3, 'n_estimators': 300, 'silent': 1, 'subsample': 0.8}\n"
          ]
        }
      ],
      "source": [
        "print(res.best_score_)\n",
        "print(res.best_params_)"
      ]
    },
    {
      "cell_type": "code",
      "execution_count": null,
      "id": "58479737",
      "metadata": {
        "id": "58479737",
        "outputId": "e61926d9-de14-4e87-d3e2-49c3504740a3"
      },
      "outputs": [
        {
          "name": "stdout",
          "output_type": "stream",
          "text": [
            "CPU times: user 2.41 s, sys: 71.6 ms, total: 2.48 s\n",
            "Wall time: 381 ms\n",
            "0.9468582199149317\n",
            "12.004458078371336\n"
          ]
        }
      ],
      "source": [
        "from sklearn.metrics import r2_score\n",
        "from sklearn.metrics import mean_squared_error\n",
        "import math\n",
        "\n",
        "\n",
        "%time preds = res.best_estimator_.predict(x_test)\n",
        "print(r2_score(y_test, preds)) \n",
        "print(math.sqrt(mean_squared_error(y_test, preds))) "
      ]
    }
  ],
  "metadata": {
    "kernelspec": {
      "display_name": "Python 3",
      "language": "python",
      "name": "python3"
    },
    "language_info": {
      "codemirror_mode": {
        "name": "ipython",
        "version": 3
      },
      "file_extension": ".py",
      "mimetype": "text/x-python",
      "name": "python",
      "nbconvert_exporter": "python",
      "pygments_lexer": "ipython3",
      "version": "3.8.8"
    },
    "colab": {
      "name": "IDS561Group24ProjectCode_II.ipynb",
      "provenance": [],
      "collapsed_sections": []
    }
  },
  "nbformat": 4,
  "nbformat_minor": 5
}